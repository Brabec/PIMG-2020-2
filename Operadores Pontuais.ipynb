{
 "cells": [
  {
   "cell_type": "markdown",
   "metadata": {},
   "source": [
    "### Compositing\n",
    "\n",
    "#### Camadas de frente e de fundo\n",
    "- Utiliza-se a cobertura do pixel (alpha): Fração do pixel coberta pela camada da frente\n",
    "- OBS: alpha será a quarta componente de um pixel(RGBA) variando de 0(transparente) a 255(totalmente opaco)"
   ]
  },
  {
   "cell_type": "code",
   "execution_count": 1,
   "metadata": {},
   "outputs": [
    {
     "name": "stdout",
     "output_type": "stream",
     "text": [
      "0.27 1.0 1.0 1.0\n"
     ]
    }
   ],
   "source": [
    "import random\n",
    "\n",
    "alpha = float(\"{:.2f}\".format(random.random()))\n",
    "\n",
    "cf = cb = 1.0\n",
    "\n",
    "c = alpha*cf + (1-alpha)*cb\n",
    "\n",
    "print(alpha, cf, cb, c)"
   ]
  },
  {
   "cell_type": "markdown",
   "metadata": {},
   "source": [
    "### Negativo de Imagens\n",
    " - Função de transformação dada por $s = T(r) = L -1 -r$"
   ]
  },
  {
   "cell_type": "code",
   "execution_count": null,
   "metadata": {},
   "outputs": [],
   "source": [
    "# para um exemplo com pixel de tom 64, onde L é o tom máximo da escala de cinza (256)\n",
    "r = 64\n",
    "L = 256\n",
    "neg = (L - 1) - r\n",
    "neg"
   ]
  },
  {
   "cell_type": "code",
   "execution_count": 1,
   "metadata": {},
   "outputs": [],
   "source": [
    "%matplotlib inline\n",
    "\n",
    "import numpy as np\n",
    "\n",
    "\n",
    "def load_image(image_url):\n",
    "    header = []\n",
    "    with open(image_url, 'r') as f:\n",
    "        for l in range(4):\n",
    "            header.append(f.readline())\n",
    "        x, y = [int(n) for n in header[2].split()]\n",
    "        pixels = np.zeros((x, y))\n",
    "        for j in range(x):\n",
    "            for k in range(y):\n",
    "                pixels[j][k] = int(f.readline())\n",
    "        return header, pixels.astype('int64')"
   ]
  },
  {
   "cell_type": "markdown",
   "metadata": {},
   "source": [
    "3. Para cada operação pontual abaixo, crie um método que aplique esta operação em uma imagem e salve o resultado em uma nova imagem:\n",
    "    - Negativo (recebe o nome do arquivo .ppm como entrada);\n",
    "    - Limiarização (recebe o nome do arquivo .ppm e o limiar como entrada)."
   ]
  },
  {
   "cell_type": "markdown",
   "metadata": {},
   "source": [
    "4. Testar o que fizeram e verificar o efeito dos operadores nas imagens de entrada. Seguem algumas em anexo a esta atividade, mas vocês podem exportar outras para testar seus operadores (exportar como ppm em ASCII)."
   ]
  },
  {
   "cell_type": "code",
   "execution_count": 7,
   "metadata": {},
   "outputs": [
    {
     "name": "stdout",
     "output_type": "stream",
     "text": [
      "Operation Successful\n"
     ]
    }
   ],
   "source": [
    "url = 'matriz.ppm'\n",
    "\n",
    "# header, pixels = load_image('Figuras/barco.pgm')\n",
    "header, pixels = load_image('matriz.ppm')\n",
    "# print(header, pixels)\n",
    "middle_value = int(header[3]) // 2\n",
    "def store_image(image_url, transform_func=None, threshold=middle_value):\n",
    "    with open(image_url, 'w') as f:\n",
    "        [f.write(l) for l in header]\n",
    "        x, y = [int(n) for n in header[2].split()]\n",
    "        LMax = int(header[3]) + 1\n",
    "        if transform_func == 'equalize':\n",
    "            equalize([pixels, LMax])\n",
    "        for j in range(x):\n",
    "            for k in range(y):\n",
    "                # 3th - Negative filter\n",
    "                if transform_func == 'negative':\n",
    "                    pixels[j][k] = (LMax - 1) - pixels[j][k]\n",
    "                # 3th - Thresholding filter\n",
    "                if transform_func == 'threshold':\n",
    "#                     pixels[j][k] = (lambda: 0, lambda: int(header[3]))[pixels[j][k] >= threshold]()\n",
    "                    pixels[j][k] = int(header[3]) if pixels[j][k] >= threshold else 0                    \n",
    "                f.write(str(int(pixels[j][k]))+'\\n')\n",
    "        return 0\n",
    "\n",
    "if store_image(url, 'equalize') == 0: print('Operation Successful')"
   ]
  },
  {
   "cell_type": "code",
   "execution_count": null,
   "metadata": {},
   "outputs": [],
   "source": [
    "# def level_transform(pixels, LMax, transformations=[]):\n",
    "#     if len(transformations) == 0: return\n",
    "#     for transform_func in transformations:\n",
    "#         if transform_func == 'negative': \n",
    "#                 pixels[j][k] = ((int(header[3])) - pixels[j][k]) # header[3] is already L-1\n",
    "#         if transform_func == 'threshold':\n",
    "#                 pixels[j][k] = int(header[3]) if pixels[j][k] >= threshold else 0"
   ]
  },
  {
   "cell_type": "code",
   "execution_count": null,
   "metadata": {},
   "outputs": [],
   "source": [
    "# Bring down the transform functions to a proper function like that:\n",
    "\"\"\"\n",
    "    transform=None # expects array of object strings\n",
    "    provide it as below:\n",
    "    \n",
    "    def level_transform(transformations=[]):\n",
    "        for transform_func in transformations:\n",
    "            if transform_func == 'negative': \n",
    "                    pixels[j][k] = ((int(header[3])) - pixels[j][k]) # header[3] is already L-1\n",
    "            if transform_func == 'threshold':\n",
    "                    pixels[j][k] = int(header[3]) if pixels[j][k] >= threshold else 0\n",
    "\"\"\""
   ]
  },
  {
   "cell_type": "markdown",
   "metadata": {},
   "source": [
    "## Histograma é dado por\n",
    "$ h(r_k) = n_k $, onde $r_k$ é a tonalidade da imagem com k = 0,1,2...L-1 e $n_k$ é o número de pixels na tonalidade k"
   ]
  },
  {
   "cell_type": "code",
   "execution_count": 2,
   "metadata": {},
   "outputs": [],
   "source": [
    "# Histogram of the picture\n",
    "def h(img_data):\n",
    "    LMax = int(header[3]) + 1\n",
    "    H = np.zeros(LMax).astype('int64')\n",
    "    for x in range(img_data.shape[0]):\n",
    "        for y in range(img_data.shape[1]):\n",
    "            H[img_data[x][y]] += 1\n",
    "    return H"
   ]
  },
  {
   "cell_type": "markdown",
   "metadata": {},
   "source": [
    "### Normalização de histograma é dada por\n",
    "$p(r_k) = n_k/M.N$, onde M e N representam o número total de pixels da imagem"
   ]
  },
  {
   "cell_type": "code",
   "execution_count": 3,
   "metadata": {},
   "outputs": [],
   "source": [
    "def normalize(histogram, resolution):\n",
    "    M, N = resolution\n",
    "    return histogram / (M*N)"
   ]
  },
  {
   "cell_type": "code",
   "execution_count": 4,
   "metadata": {},
   "outputs": [],
   "source": [
    "### Cummulative summation of the probabilities\n",
    "\n",
    "# P.sum() # Summation of the K_(L-1) probabilities\n",
    "def cumsum(P):\n",
    "    C = np.zeros_like(P)\n",
    "    for i in range(C.size):\n",
    "        cumsum = 0\n",
    "        for k in range(i+1):\n",
    "            cumsum += P[k]\n",
    "        C[i] = cumsum\n",
    "    return C"
   ]
  },
  {
   "cell_type": "code",
   "execution_count": 5,
   "metadata": {},
   "outputs": [],
   "source": [
    "def equalize(img_data=[]):\n",
    "    if len(img_data) != 2: return\n",
    "    \n",
    "    pixels, LMax = img_data\n",
    "    resolution = pixels.shape\n",
    "    histogram = h(pixels)\n",
    "    # Normalize\n",
    "    P = normalize(histogram, resolution)\n",
    "    # Sum Probabilities\n",
    "    C = cumsum(P)\n",
    "    # Map new indexes\n",
    "    eq = LMax - 1\n",
    "    equalized_histogram = np.array(\n",
    "        np.round(eq * C)\n",
    "    ).astype('int64')\n",
    "    # equalize each pixel\n",
    "    for i in range(pixels.shape[0]):\n",
    "        for j in range(pixels.shape[1]):\n",
    "            pixels[i][j] = equalized_histogram[pixels[i][j]]"
   ]
  },
  {
   "cell_type": "markdown",
   "metadata": {},
   "source": [
    "### Drafts"
   ]
  },
  {
   "cell_type": "code",
   "execution_count": null,
   "metadata": {},
   "outputs": [],
   "source": [
    "header, pixels = load_image('Figuras/lua.pgm')\n",
    "\n",
    "resolution = [int(n) for n in header[2].split()]\n",
    "# pixels.shape\n",
    "h(pixels)\n"
   ]
  },
  {
   "cell_type": "code",
   "execution_count": null,
   "metadata": {},
   "outputs": [],
   "source": [
    "# histogram = h(pixels)\n",
    "# P = normalize(histogram, resolution)\n",
    "# P, P.size"
   ]
  },
  {
   "cell_type": "code",
   "execution_count": null,
   "metadata": {},
   "outputs": [],
   "source": [
    "# Draft - Executing cumsum examples\n",
    "\n",
    "# LMax = int(header[3]) + 1\n",
    "\n",
    "# C = np.zeros_like(P)\n",
    "# for i in range(C.size):\n",
    "#     C[i] = cumsum(i)\n",
    "\n",
    "# cumsum(LMax - 1)\n",
    "# C"
   ]
  },
  {
   "cell_type": "code",
   "execution_count": null,
   "metadata": {
    "scrolled": true
   },
   "outputs": [],
   "source": [
    "### Equalizing histograms\n",
    "\n",
    "eq = LMax - 1\n",
    "eq_histogram = np.array(eq * C).astype('int64')\n",
    "eq_histogram"
   ]
  }
 ],
 "metadata": {
  "kernelspec": {
   "display_name": "Python 3",
   "language": "python",
   "name": "python3"
  },
  "language_info": {
   "codemirror_mode": {
    "name": "ipython",
    "version": 3
   },
   "file_extension": ".py",
   "mimetype": "text/x-python",
   "name": "python",
   "nbconvert_exporter": "python",
   "pygments_lexer": "ipython3",
   "version": "3.8.5"
  }
 },
 "nbformat": 4,
 "nbformat_minor": 4
}
