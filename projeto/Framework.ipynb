{
 "cells": [
  {
   "cell_type": "code",
   "execution_count": 2,
   "metadata": {},
   "outputs": [],
   "source": [
    "import numpy as np"
   ]
  },
  {
   "cell_type": "markdown",
   "metadata": {},
   "source": [
    "### Loading Image"
   ]
  },
  {
   "cell_type": "code",
   "execution_count": 245,
   "metadata": {},
   "outputs": [],
   "source": [
    "# Load P1 Image\n",
    "def load_image(image_url):\n",
    "    header = []\n",
    "    with open(image_url, 'r') as f:\n",
    "        for l in range(3):\n",
    "            header.append(f.readline())\n",
    "        y,x = [int(n) for n in header[2].split()]\n",
    "        pixels = np.zeros((x, y)) # (7,24)\n",
    "        for j in range(x):\n",
    "            for k in range(y):\n",
    "                pixel = f.read(1)\n",
    "                if pixel in ['\\n', ' ']:\n",
    "                    pixel = f.read(1)\n",
    "                pixels[j][k] = pixel\n",
    "        return header, pixels"
   ]
  },
  {
   "cell_type": "code",
   "execution_count": 247,
   "metadata": {},
   "outputs": [
    {
     "data": {
      "text/plain": [
       "(['P1\\n', '# CREATOR: GIMP PNM Filter Version 1.1\\n', '1653 2338\\n'],\n",
       " array([[0., 0., 0., ..., 0., 0., 0.],\n",
       "        [0., 0., 0., ..., 0., 0., 0.],\n",
       "        [0., 0., 0., ..., 0., 0., 0.],\n",
       "        ...,\n",
       "        [0., 0., 0., ..., 0., 0., 0.],\n",
       "        [0., 0., 0., ..., 0., 0., 0.],\n",
       "        [0., 0., 0., ..., 0., 0., 0.]]))"
      ]
     },
     "execution_count": 247,
     "metadata": {},
     "output_type": "execute_result"
    }
   ],
   "source": [
    "img = load_image('arquivos/lorem_s12_c02_just.pbm')\n",
    "img"
   ]
  },
  {
   "cell_type": "code",
   "execution_count": 219,
   "metadata": {},
   "outputs": [
    {
     "data": {
      "text/plain": [
       "(['P1\\n',\n",
       "  '# PBM example \\n',\n",
       "  '24 7\\n',\n",
       "  '000000000000000000000000\\n',\n",
       "  '011110011110011110011110\\n',\n",
       "  '010000010000010000010010\\n',\n",
       "  '011100011100011100011110\\n',\n",
       "  '010000010000010000010000\\n',\n",
       "  '010000011110011110010000\\n',\n",
       "  '000000000000000000000000\\n'],\n",
       " ['P1\\n',\n",
       "  '# PBM example \\n',\n",
       "  '24 7\\n',\n",
       "  '000000000000000000000000\\n',\n",
       "  '011110011110011110011110\\n',\n",
       "  '010000010000010000010010\\n',\n",
       "  '011100011100011100011110\\n',\n",
       "  '010000010000010000010000\\n',\n",
       "  '010000011110011110010000\\n',\n",
       "  '000000000000000000000000\\n'])"
      ]
     },
     "execution_count": 219,
     "metadata": {},
     "output_type": "execute_result"
    }
   ],
   "source": [
    "# DRAFT\n",
    "# img = load_image('teste.pbm')\n",
    "# img\n",
    "# f = open('arquivos/lorem_s12_c02_just.pbm', 'r')\n",
    "f = open('teste.pbm', 'r')\n",
    "f.readlines(), open('fig_test.pbm', 'r').readlines()\n"
   ]
  },
  {
   "cell_type": "markdown",
   "metadata": {},
   "source": [
    "### Store image w/ transformations"
   ]
  },
  {
   "cell_type": "code",
   "execution_count": 242,
   "metadata": {},
   "outputs": [],
   "source": [
    "def store_image(image_url, img_data, transform_func=None, threshold=None):\n",
    "    header, pixels = img_data\n",
    "    with open(image_url, 'w') as f:\n",
    "        print(\"header\", header)\n",
    "        [f.write(l) for l in header]\n",
    "        y,x = [int(n) for n in header[2].split()]\n",
    "        print(x,y)\n",
    "        \n",
    "#         LMax = int(header[3]) + 1\n",
    "#         if transform_func == 'equalize':\n",
    "#             equalize([pixels, LMax])\n",
    "        for j in range(x):\n",
    "            for k in range(y):\n",
    "                # 3th - Negative filter\n",
    "#                 if transform_func == 'negative':\n",
    "#                     pixels[j][k] = (LMax - 1) - pixels[j][k]\n",
    "#                 # 3th - Thresholding filter\n",
    "#                 if transform_func == 'threshold':\n",
    "#                     pixels[j][k] = int(header[3]) if pixels[j][k] >= threshold else 0                    \n",
    "#                 print(pixels[j][k])\n",
    "                f.write(str(int(pixels[j][k])))\n",
    "            f.write('\\n')\n",
    "        return 0\n"
   ]
  },
  {
   "cell_type": "code",
   "execution_count": 248,
   "metadata": {},
   "outputs": [
    {
     "name": "stdout",
     "output_type": "stream",
     "text": [
      "header ['P1\\n', '# CREATOR: GIMP PNM Filter Version 1.1\\n', '1653 2338\\n']\n",
      "2338 1653\n"
     ]
    },
    {
     "data": {
      "text/plain": [
       "0"
      ]
     },
     "execution_count": 248,
     "metadata": {},
     "output_type": "execute_result"
    }
   ],
   "source": [
    "store_image('teste.pbm', img)"
   ]
  },
  {
   "cell_type": "code",
   "execution_count": 249,
   "metadata": {
    "scrolled": true
   },
   "outputs": [
    {
     "data": {
      "text/plain": [
       "(['P1\\n', '# CREATOR: GIMP PNM Filter Version 1.1\\n', '1653 2338\\n'],\n",
       " array([[0., 0., 0., ..., 0., 0., 0.],\n",
       "        [0., 0., 0., ..., 0., 0., 0.],\n",
       "        [0., 0., 0., ..., 0., 0., 0.],\n",
       "        ...,\n",
       "        [0., 0., 0., ..., 0., 0., 0.],\n",
       "        [0., 0., 0., ..., 0., 0., 0.],\n",
       "        [0., 0., 0., ..., 0., 0., 0.]]))"
      ]
     },
     "execution_count": 249,
     "metadata": {},
     "output_type": "execute_result"
    }
   ],
   "source": [
    "load_image('teste.pbm')"
   ]
  },
  {
   "cell_type": "code",
   "execution_count": null,
   "metadata": {},
   "outputs": [],
   "source": [
    "# def level_transform(pixels, LMax, transformations=[]):\n",
    "#     if len(transformations) == 0: return\n",
    "#     for transform_func in transformations:\n",
    "#         if transform_func == 'negative': \n",
    "#                 pixels[j][k] = ((int(header[3])) - pixels[j][k]) # header[3] is already L-1\n",
    "#         if transform_func == 'threshold':\n",
    "#                 pixels[j][k] = int(header[3]) if pixels[j][k] >= threshold else 0"
   ]
  },
  {
   "cell_type": "code",
   "execution_count": null,
   "metadata": {},
   "outputs": [],
   "source": [
    "# Bring down the transform functions to a proper function like that:\n",
    "\"\"\"\n",
    "    transform=None # expects array of object strings\n",
    "    provide it as below:\n",
    "    \n",
    "    def level_transform(transformations=[]):\n",
    "        for transform_func in transformations:\n",
    "            if transform_func == 'negative': \n",
    "                    pixels[j][k] = ((int(header[3])) - pixels[j][k]) # header[3] is already L-1\n",
    "            if transform_func == 'threshold':\n",
    "                    pixels[j][k] = int(header[3]) if pixels[j][k] >= threshold else 0\n",
    "\"\"\""
   ]
  },
  {
   "cell_type": "markdown",
   "metadata": {},
   "source": [
    "## Histograma é dado por\n",
    "$ h(r_k) = n_k $, onde $r_k$ é a tonalidade da imagem com k = 0,1,2...L-1 e $n_k$ é o número de pixels na tonalidade k"
   ]
  },
  {
   "cell_type": "code",
   "execution_count": null,
   "metadata": {},
   "outputs": [],
   "source": [
    "# Histogram of the picture\n",
    "def h(img_data):\n",
    "    LMax = int(header[3]) + 1\n",
    "    H = np.zeros(LMax).astype('int64')\n",
    "    for x in range(img_data.shape[0]):\n",
    "        for y in range(img_data.shape[1]):\n",
    "            H[img_data[x][y]] += 1\n",
    "    return H"
   ]
  },
  {
   "cell_type": "markdown",
   "metadata": {},
   "source": [
    "### Normalização de histograma é dada por\n",
    "$p(r_k) = n_k/M.N$, onde M e N representam o número total de pixels da imagem"
   ]
  },
  {
   "cell_type": "code",
   "execution_count": null,
   "metadata": {},
   "outputs": [],
   "source": [
    "def normalize(histogram, resolution):\n",
    "    M, N = resolution\n",
    "    return histogram / (M*N)"
   ]
  },
  {
   "cell_type": "code",
   "execution_count": null,
   "metadata": {},
   "outputs": [],
   "source": [
    "### Cummulative summation of the probabilities\n",
    "\n",
    "# P.sum() # Summation of the K_(L-1) probabilities\n",
    "def cumsum(P):\n",
    "    C = np.zeros_like(P)\n",
    "    for i in range(C.size):\n",
    "        cumsum = 0\n",
    "        for k in range(i+1):\n",
    "            cumsum += P[k]\n",
    "        C[i] = cumsum\n",
    "    return C"
   ]
  },
  {
   "cell_type": "code",
   "execution_count": null,
   "metadata": {},
   "outputs": [],
   "source": [
    "def equalize(img_data=[]):\n",
    "    if len(img_data) != 2: return\n",
    "    \n",
    "    pixels, LMax = img_data\n",
    "    resolution = pixels.shape\n",
    "    histogram = h(pixels)\n",
    "    # Normalize\n",
    "    P = normalize(histogram, resolution)\n",
    "    # Sum Probabilities\n",
    "    C = cumsum(P)\n",
    "    # Map new indexes\n",
    "    eq = LMax - 1\n",
    "    equalized_histogram = np.array(\n",
    "        np.round(eq * C)\n",
    "    ).astype('int64')\n",
    "    # equalize each pixel\n",
    "    for i in range(pixels.shape[0]):\n",
    "        for j in range(pixels.shape[1]):\n",
    "            pixels[i][j] = equalized_histogram[pixels[i][j]]"
   ]
  },
  {
   "cell_type": "markdown",
   "metadata": {},
   "source": [
    "### Filtro da mediana"
   ]
  },
  {
   "cell_type": "code",
   "execution_count": null,
   "metadata": {},
   "outputs": [],
   "source": [
    "import numpy as np\n",
    "# criar matriz 3x3 \n",
    "median = np.zeros((3,3))\n",
    "# median\n",
    "# carregue a imagem e itere\n",
    "#p1 loader\n",
    "# header, pixels = load_image('arquivos/lorem_s12_c02.pbm')\n",
    "header, pixels = load_image('./fig_test.pbm')\n",
    "\n",
    "url = 'imagem.pbm'\n",
    "\n",
    "store_image(url)\n",
    "#read with p2 loader\n",
    "# load_image('../Figuras/barco.pgm')"
   ]
  }
 ],
 "metadata": {
  "kernelspec": {
   "display_name": "Python 3",
   "language": "python",
   "name": "python3"
  },
  "language_info": {
   "codemirror_mode": {
    "name": "ipython",
    "version": 3
   },
   "file_extension": ".py",
   "mimetype": "text/x-python",
   "name": "python",
   "nbconvert_exporter": "python",
   "pygments_lexer": "ipython3",
   "version": "3.8.5"
  }
 },
 "nbformat": 4,
 "nbformat_minor": 4
}
