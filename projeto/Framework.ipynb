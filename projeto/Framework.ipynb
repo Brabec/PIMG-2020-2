{
 "cells": [
  {
   "cell_type": "code",
   "execution_count": 1,
   "metadata": {},
   "outputs": [],
   "source": [
    "import numpy as np\n",
    "import math"
   ]
  },
  {
   "cell_type": "markdown",
   "metadata": {},
   "source": [
    "### Loading Image"
   ]
  },
  {
   "cell_type": "code",
   "execution_count": 2,
   "metadata": {},
   "outputs": [],
   "source": [
    "# Load P1 Image\n",
    "def load_image(image_url):\n",
    "    header = []\n",
    "    with open(image_url, 'r') as f:\n",
    "        for l in range(3):\n",
    "            header.append(f.readline())\n",
    "        y,x = [int(n) for n in header[2].split()]\n",
    "        pixels = np.zeros((x, y)) # (7,24)\n",
    "        for j in range(x):\n",
    "            for k in range(y):\n",
    "                pixel = f.read(1)\n",
    "                if pixel in ['\\n', ' ']:\n",
    "                    pixel = f.read(1)\n",
    "                pixels[j][k] = pixel\n",
    "        return header, pixels.astype('int64')"
   ]
  },
  {
   "cell_type": "markdown",
   "metadata": {},
   "source": [
    "### Store image w/ transformations"
   ]
  },
  {
   "cell_type": "code",
   "execution_count": 3,
   "metadata": {},
   "outputs": [],
   "source": [
    "def store_image(image_url, img_data):\n",
    "    header, pixels = img_data\n",
    "    with open(image_url, 'w') as f:\n",
    "        [f.write(l) for l in header]\n",
    "        y,x = [int(n) for n in header[2].split()]\n",
    "        if transform_func == 'equalize':\n",
    "            equalize([pixels, LMax])\n",
    "        for j in range(x):\n",
    "            for k in range(y):\n",
    "                # 3th - Negative filter\n",
    "                if transform_func == 'negative':\n",
    "                    pixels[j][k] = (LMax - 1) - pixels[j][k]\n",
    "                # 3th - Thresholding filter\n",
    "                if transform_func == 'threshold':\n",
    "                    pixels[j][k] = int(header[3]) if pixels[j][k] >= threshold else 0\n",
    "                f.write(str(int(pixels[j][k])))\n",
    "            f.write('\\n')\n",
    "        return 0"
   ]
  },
  {
   "cell_type": "markdown",
   "metadata": {},
   "source": [
    "## Histograma é dado por\n",
    "$ h(r_k) = n_k $, onde $r_k$ é a tonalidade da imagem com k = 0,1,2...L-1 e $n_k$ é o número de pixels na tonalidade k"
   ]
  },
  {
   "cell_type": "code",
   "execution_count": null,
   "metadata": {},
   "outputs": [],
   "source": [
    "# Histogram of the picture\n",
    "def h(img_data):\n",
    "    LMax = int(header[3]) + 1\n",
    "    H = np.zeros(LMax).astype('int64')\n",
    "    for x in range(img_data.shape[0]):\n",
    "        for y in range(img_data.shape[1]):\n",
    "            H[img_data[x][y]] += 1\n",
    "    return H"
   ]
  },
  {
   "cell_type": "markdown",
   "metadata": {},
   "source": [
    "### Normalização de histograma é dada por\n",
    "$p(r_k) = n_k/M.N$, onde M e N representam o número total de pixels da imagem"
   ]
  },
  {
   "cell_type": "code",
   "execution_count": null,
   "metadata": {},
   "outputs": [],
   "source": [
    "def normalize(histogram, resolution):\n",
    "    M, N = resolution\n",
    "    return histogram / (M*N)"
   ]
  },
  {
   "cell_type": "code",
   "execution_count": null,
   "metadata": {},
   "outputs": [],
   "source": [
    "# Cummulative summation of the probabilities\n",
    "\n",
    "# P.sum() # Summation of the K_(L-1) probabilities\n",
    "def cumsum(P):\n",
    "    C = np.zeros_like(P)\n",
    "    for i in range(C.size):\n",
    "        cumsum = 0\n",
    "        for k in range(i+1):\n",
    "            cumsum += P[k]\n",
    "        C[i] = cumsum\n",
    "    return C"
   ]
  },
  {
   "cell_type": "code",
   "execution_count": null,
   "metadata": {},
   "outputs": [],
   "source": [
    "def equalize(img_data=[]):\n",
    "    if len(img_data) != 2: return\n",
    "    \n",
    "    pixels, LMax = img_data\n",
    "    resolution = pixels.shape\n",
    "    histogram = h(pixels)\n",
    "    # Normalize\n",
    "    P = normalize(histogram, resolution)\n",
    "    # Sum Probabilities\n",
    "    C = cumsum(P)\n",
    "    # Map new indexes\n",
    "    eq = LMax - 1\n",
    "    equalized_histogram = np.array(\n",
    "        np.round(eq * C)\n",
    "    ).astype('int64')\n",
    "    # equalize each pixel\n",
    "    for i in range(pixels.shape[0]):\n",
    "        for j in range(pixels.shape[1]):\n",
    "            pixels[i][j] = equalized_histogram[pixels[i][j]]"
   ]
  },
  {
   "cell_type": "markdown",
   "metadata": {},
   "source": [
    "### Filtro da mediana"
   ]
  },
  {
   "cell_type": "code",
   "execution_count": 19,
   "metadata": {},
   "outputs": [],
   "source": [
    "# Load Image\n",
    "header, pixels = load_image('teste.pbm')"
   ]
  },
  {
   "cell_type": "code",
   "execution_count": 5,
   "metadata": {},
   "outputs": [],
   "source": [
    "def getValue(x, row, col):\n",
    "    try:\n",
    "        return x[row][col]\n",
    "    except IndexError:\n",
    "        return 0"
   ]
  },
  {
   "cell_type": "code",
   "execution_count": 12,
   "metadata": {},
   "outputs": [],
   "source": [
    "def median_filter(pixels):    \n",
    "    # create 3x3 matrix \n",
    "    m = np.zeros((3,3))\n",
    "    \n",
    "    # create temporary image\n",
    "    P = np.zeros_like(pixels)\n",
    "\n",
    "    print('Initializing filter...')\n",
    "    x, y = pixels.shape\n",
    "    for i in range(x):\n",
    "        for j in range(y):\n",
    "            # first pixel\n",
    "            m[0][0] = getValue(pixels,i-1,j-1)\n",
    "            m[0][1] = getValue(pixels,i-1,j)\n",
    "            m[0][2] = getValue(pixels,i-1,j+1)\n",
    "            m[1][0] = getValue(pixels,i,j-1)\n",
    "            # center pixel\n",
    "            m[1][1] = pixels[i][j]\n",
    "            m[1][2] = getValue(pixels,i,j+1)\n",
    "            m[2][0] = getValue(pixels,i+1,j-1)\n",
    "            m[2][1] = getValue(pixels,i+1,j)\n",
    "            # last pixel\n",
    "            m[2][2] = getValue(pixels,i+1,j+1)\n",
    "\n",
    "            # calculate median value of matrix m\n",
    "            P[i][j] = math.trunc(np.median(m))\n",
    "        print(format((i/x),\".2%\"))\n",
    "    print(\"Done.\")\n",
    "    \n",
    "    return P"
   ]
  },
  {
   "cell_type": "code",
   "execution_count": 17,
   "metadata": {},
   "outputs": [
    {
     "name": "stdout",
     "output_type": "stream",
     "text": [
      "Initializing filter...\n",
      "0.00%\n",
      "14.29%\n",
      "28.57%\n",
      "42.86%\n",
      "57.14%\n",
      "71.43%\n",
      "85.71%\n",
      "Done.\n"
     ]
    }
   ],
   "source": [
    "# Create filtered image\n",
    "img = [header, median_filter(pixels)]"
   ]
  },
  {
   "cell_type": "code",
   "execution_count": 18,
   "metadata": {},
   "outputs": [
    {
     "name": "stdout",
     "output_type": "stream",
     "text": [
      "Operation Successful!\n"
     ]
    }
   ],
   "source": [
    "# Store filtered image\n",
    "if store_image('teste.pbm', img) == 0: print('Operation Successful!')"
   ]
  }
 ],
 "metadata": {
  "kernelspec": {
   "display_name": "Python 3",
   "language": "python",
   "name": "python3"
  },
  "language_info": {
   "codemirror_mode": {
    "name": "ipython",
    "version": 3
   },
   "file_extension": ".py",
   "mimetype": "text/x-python",
   "name": "python",
   "nbconvert_exporter": "python",
   "pygments_lexer": "ipython3",
   "version": "3.8.5"
  }
 },
 "nbformat": 4,
 "nbformat_minor": 4
}
