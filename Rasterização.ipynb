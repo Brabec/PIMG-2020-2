{
 "cells": [
  {
   "cell_type": "code",
   "execution_count": 46,
   "metadata": {},
   "outputs": [],
   "source": [
    "# creating ppm from txt\n",
    "# P2\n",
    "# # CREATOR: Brabec algorithm\n",
    "# resolution (512 x 512)\n",
    "# maximum intensity (256)\n",
    "# intensity of the pixel\n",
    "import random\n",
    "\n",
    "with open('teste.ppm', 'w') as f:\n",
    "    f.write('P2\\n')\n",
    "    f.write('# CREATOR: Brabec\\n')\n",
    "    f.write('512 512\\n')\n",
    "    f.write('256\\n')\n",
    "    for i in range(512):\n",
    "        for j in range(512):\n",
    "            f.write(str(random.randrange(0, 256))+'\\n')"
   ]
  },
  {
   "cell_type": "markdown",
   "metadata": {},
   "source": [
    "1. Faça um método que leia um arquivo .ppm ASCII que contém uma imagem em nível de cinza (P2) e carregue seu conteúdo na memória. Use uma matriz ou estrutura de dados similar para representar a imagem."
   ]
  },
  {
   "cell_type": "code",
   "execution_count": 180,
   "metadata": {},
   "outputs": [],
   "source": [
    "# 1st Answer\n",
    "import numpy as np\n",
    "\n",
    "header = []\n",
    "\n",
    "with open('Figuras/barco.pgm', 'r') as f:\n",
    "    for l in range(3):\n",
    "        header.append(f.readline())\n",
    "    x, y = [int(n) for n in header[2].split()]\n",
    "    pixels = np.zeros((x, y))\n",
    "    intensity = f.readline()\n",
    "    for j in range(x):\n",
    "        for k in range(y):\n",
    "            pixels[j][k] = int(f.readline())"
   ]
  },
  {
   "cell_type": "code",
   "execution_count": null,
   "metadata": {},
   "outputs": [],
   "source": [
    "import numpy as np\n",
    "image_url = 'Figuras/pimentoes.pgm'\n",
    "\n",
    "def load_image(image_url):\n",
    "    header = []\n",
    "    with open(image_url, 'r') as f:\n",
    "        for l in range(3):\n",
    "            header.append(f.readline())\n",
    "        x, y = [int(n) for n in header[2].split()]\n",
    "        pixels = np.zeros((x, y))\n",
    "        for j in range(x):\n",
    "            for k in range(y):\n",
    "                pixels[j][k] = int(f.readline())\n",
    "        return header, pixels\n",
    "                \n",
    "header, pixels = load_image(image_url)\n",
    "header, pixels"
   ]
  },
  {
   "cell_type": "markdown",
   "metadata": {},
   "source": [
    "2. Faça um método que salve o conteúdo da matriz ou estrutura de dados da questão anterior em um arquivo ASCII .ppm\n",
    "\n",
    "As imagens (abertas e salvas) estão iguais? Se não estiverem, há algo a ser corrigido!"
   ]
  },
  {
   "cell_type": "code",
   "execution_count": 181,
   "metadata": {},
   "outputs": [],
   "source": [
    "# 2nd Answer\n",
    "\n",
    "with open('matriz.ppm', 'w') as f:\n",
    "    [f.write(l) for l in header]\n",
    "    f.write(intensity)\n",
    "    for j in range(x):\n",
    "        for k in range(y):\n",
    "            f.write(str(int(pixels[j][k]))+'\\n')"
   ]
  },
  {
   "cell_type": "code",
   "execution_count": null,
   "metadata": {},
   "outputs": [],
   "source": [
    "url = 'matriz.ppm'\n",
    "def store_image(image_url):\n",
    "    with open(image_url, 'w') as f:\n",
    "        [f.write(l) for l in header]\n",
    "        x, y = [int(n) for n in header[2].split()]\n",
    "        for j in range(x):\n",
    "            for k in range(y):\n",
    "                f.write(str(int(pixels[j][k]))+'\\n')\n",
    "\n",
    "store_image(url)"
   ]
  }
 ],
 "metadata": {
  "kernelspec": {
   "display_name": "Python 3",
   "language": "python",
   "name": "python3"
  },
  "language_info": {
   "codemirror_mode": {
    "name": "ipython",
    "version": 3
   },
   "file_extension": ".py",
   "mimetype": "text/x-python",
   "name": "python",
   "nbconvert_exporter": "python",
   "pygments_lexer": "ipython3",
   "version": "3.8.5"
  }
 },
 "nbformat": 4,
 "nbformat_minor": 4
}
